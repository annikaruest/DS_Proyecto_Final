{
 "cells": [
  {
   "cell_type": "markdown",
   "metadata": {},
   "source": [
    "# 1. Basándonos en los rangos de edad de las personas, podemos determinar la cantidad de días que estos podrían pasar internados en el hospital. A mayor edad, más es la cantidad de días que los pacientes pasan internados. "
   ]
  },
  {
   "cell_type": "code",
   "execution_count": null,
   "metadata": {
    "collapsed": true
   },
   "outputs": [],
   "source": [
    "import numpy as np\n",
    "import pandas as pd\n",
    "from scipy import stats, integrate\n",
    "import matplotlib.pyplot as plt\n",
    "import seaborn as sns\n",
    "from __future__ import division\n",
    "\n",
    "df = pd.read_csv('diabetic_data.csv')\n",
    "\n",
    "#Agrupación por edades\n",
    "DataMay60 = df[(df.age == '[60-70)')|(df.age == '[70-80)')|(df.age == '[80-90)')]\n",
    "\n",
    "\n",
    "#Eventos Favorables\n",
    "DataDiasMayorn = DataMay60.groupby(['age','time_in_hospital']).mean()\n",
    "\n",
    "\n",
    "#Eventos Posibles personas mayores a 60 años pero han estado n cantidad de días \n",
    "EvPosibles = DataMay60.encounter_id.count()\n",
    "\n",
    "Probabilidad = str((DataDiasMayorn/EvPosibles)*100) + '%'\n",
    "\n",
    "\n",
    "#crosstable\n",
    "tabla = pd.crosstab(df.age, df.time_in_hospital)\n",
    "\n",
    "tabla.sum()\n",
    "\n",
    "\n",
    "#probabilidad\n",
    "probabilidad = tabla/tabla.sum()\n",
    "\n",
    "# probabilidadGeneral = tabla/tabla.sum().sum()\n",
    "\n",
    "#graficas\n",
    "graficars = pd.crosstab(index = df['age'],\n",
    "columns = df['time_in_hospital']).plot(kind='bar')\n",
    "\n",
    "#funcion\n",
    "def Fun(Edad):\n",
    "    ProbaEdad = probabilidad[probabilidad.index ==Edad]\n",
    "    print ProbaEdad"
   ]
  },
  {
   "cell_type": "markdown",
   "metadata": {},
   "source": [
    "### Basándonos en los rangos de edad de las personas, podemos determinar la cantidad de días que estos podrían pasar internados en el hospital. A mayor edad, más es la cantidad de días que los pacientes pasan internados. "
   ]
  },
  {
   "cell_type": "markdown",
   "metadata": {},
   "source": [
    "# 2. ¿Cuál es la probabilidad de que una persona con cierta edad, pase más de n días en el hospital?"
   ]
  },
  {
   "cell_type": "code",
   "execution_count": null,
   "metadata": {
    "collapsed": true
   },
   "outputs": [],
   "source": [
    "import numpy as np\n",
    "import pandas as pd\n",
    "from scipy import stats, integrate\n",
    "import matplotlib.pyplot as plt\n",
    "import seaborn as sns\n",
    "from __future__ import division\n",
    "\n",
    "df = pd.read_csv('diabetic_data.csv')\n",
    "\n",
    "DataMed = df['medical_specialty']\n",
    "DataMed.count()\n",
    "\n",
    "DataDiab = df['number_diagnoses']\n",
    "DataDiab.count()\n",
    "\n",
    "\n",
    "#group by\n",
    "Datas = df.groupby(['medical_specialty','number_diagnoses']).mean()\n",
    "\n",
    "\n",
    "#crosstable\n",
    "tabla = pd.crosstab(df.medical_specialty, df.number_diagnoses)\n",
    "\n",
    "tabla.sum()\n",
    "\n",
    "\n",
    "#probabilidad\n",
    "probabilidad = tabla/tabla.sum()\n",
    "\n",
    "\n",
    "#graficas\n",
    "grafis = pd.crosstab(index = df['medical_specialty'],\n",
    "columns = df['number_diagnoses']).plot(kind='bar')\n",
    "\n",
    "\n",
    "#función\n",
    "def Fries(Doctor,NivelDiabe):\n",
    "  ProbaDoctor = probabilidad[probabilidad.index==Doctor][NivelDiabe]\n",
    "  print ProbaDoctor\n",
    "    "
   ]
  },
  {
   "cell_type": "markdown",
   "metadata": {},
   "source": [
    "### Dada la gran cantidad de médicos que existen en la base de datos, podemos determinar la probabilidad de que atiendan a pacientes con cierto nivel de diabetes, por cualquier causa."
   ]
  }
 ],
 "metadata": {
  "kernelspec": {
   "display_name": "Python 2",
   "language": "python",
   "name": "python2"
  },
  "language_info": {
   "codemirror_mode": {
    "name": "ipython",
    "version": 2
   },
   "file_extension": ".py",
   "mimetype": "text/x-python",
   "name": "python",
   "nbconvert_exporter": "python",
   "pygments_lexer": "ipython2",
   "version": "2.7.11"
  }
 },
 "nbformat": 4,
 "nbformat_minor": 0
}
