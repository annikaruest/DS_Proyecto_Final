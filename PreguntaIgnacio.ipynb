{
 "cells": [
  {
   "cell_type": "markdown",
   "metadata": {},
   "source": [
    "# ¿Cuál es el porcentaje de gente que luego de ser despachada del hospital aún debe ser atendida en casa?"
   ]
  },
  {
   "cell_type": "code",
   "execution_count": 3,
   "metadata": {
    "collapsed": false
   },
   "outputs": [
    {
     "name": "stdout",
     "output_type": "stream",
     "text": [
      "12.7842304896\n"
     ]
    }
   ],
   "source": [
    "import pandas as pd\n",
    "\n",
    "df = pd.read_csv(\"diabetic_data.csv\")\n",
    "\n",
    "\n",
    "despachada1 = df[df[\"discharge_disposition_id\"] == 6]\n",
    "despachada2 = df[df[\"discharge_disposition_id\"] == 8]\n",
    "\n",
    "a = despachada1[\"discharge_disposition_id\"].count()+0.0\n",
    "\n",
    "b = despachada2[\"discharge_disposition_id\"].count()+0.0\n",
    "\n",
    "total_despacho = a+b\n",
    "\n",
    "total = df[\"discharge_disposition_id\"].count()+0.0\n",
    "\n",
    "final = (total_despacho/total)*100\n",
    "print(final)"
   ]
  },
  {
   "cell_type": "markdown",
   "metadata": {},
   "source": [
    "## Resouesta: 12.7842%"
   ]
  }
 ],
 "metadata": {
  "kernelspec": {
   "display_name": "Python 2",
   "language": "python",
   "name": "python2"
  },
  "language_info": {
   "codemirror_mode": {
    "name": "ipython",
    "version": 2
   },
   "file_extension": ".py",
   "mimetype": "text/x-python",
   "name": "python",
   "nbconvert_exporter": "python",
   "pygments_lexer": "ipython2",
   "version": "2.7.11"
  }
 },
 "nbformat": 4,
 "nbformat_minor": 0
}
