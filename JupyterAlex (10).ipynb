{
 "cells": [
  {
   "cell_type": "markdown",
   "metadata": {},
   "source": [
    "# Que probabilidad tienen los pacientes, que presentan inestabilidad en niveles\n",
    "# de insulina que sean readmitidos después de k dias?"
   ]
  },
  {
   "cell_type": "code",
   "execution_count": 6,
   "metadata": {
    "collapsed": true
   },
   "outputs": [],
   "source": [
    "import numpy as np\n",
    "import pandas as pd\n",
    "import matplotlib.pyplot as plt\n",
    "import seaborn as sns\n",
    "from __future__ import division \n",
    "\n",
    "df = pd.read_csv('diabetic_data.csv')\n",
    "\n",
    "\n",
    "#Tabla\n",
    "tabla = pd.crosstab(df.insulin, df.readmitted)\n",
    "#Probabilidad por columna\n",
    "probabilida = tabla/tabla.sum()\n",
    "#Probabilidad general\n",
    "probabilidaGeneral = tabla/tabla.sum().sum()\n",
    "\n",
    "#Grafica\n",
    "graf = pd.crosstab(index = df['insulin'], columns = df['readmitted']).plot(kind='bar')\n",
    "\n",
    "#Funcion\n",
    "def FuncIns(NivelInsulina,Time):\n",
    "    EvFavo=df.encounter_id[(df.insulin == NivelInsulina)&(df.readmitted==Time)].count()\n",
    "    EvPos=df.encounter_id[df.readmitted==Time].count()\n",
    "    Probabilidad = EvFavo/EvPos\n",
    "    print(Probabilidad)\n",
    "    \n",
    "#GroupBy\n",
    "TablaGroup= df.groupby(['insulin','readmitted']).encounter_id.count()\n",
    "TotalReadmitted = df.readmitted.groupby(df.readmitted).count()\n",
    "Probabilidad = TablaGroup/TotalReadmitted\n"
   ]
  },
  {
   "cell_type": "markdown",
   "metadata": {},
   "source": [
    "# Que raza es mas probable a ser transferido de un lugar x al del hospital?"
   ]
  },
  {
   "cell_type": "code",
   "execution_count": 7,
   "metadata": {
    "collapsed": false
   },
   "outputs": [],
   "source": [
    "import numpy as np\n",
    "import pandas as pd\n",
    "import matplotlib.pyplot as plt\n",
    "import seaborn as sns\n",
    "from __future__ import division \n",
    "\n",
    "df = pd.read_csv('diabetic_data.csv')\n",
    "\n",
    "\n",
    "tabla2 = pd.crosstab(df.race, df.admission_source_id)\n",
    "#Probabilidad por columna\n",
    "probabilidad = tabla2/tabla2.sum()\n",
    "#Probabilidad general\n",
    "#probabilidaGeneral = tabla2/tabla2.sum().sum()\n",
    "\n",
    "#Grafica\n",
    "graf = pd.crosstab(index = df['race'], columns = df['admission_source_id']).plot(kind='bar')\n",
    "\n",
    "\n",
    "#Funcion\n",
    "def FunProbabilidad( Race,Admision ): \n",
    "    EvFavo=df.encounter_id[(df.race == Race)&(df.admission_source_id==Admision)].count()\n",
    "    EvPos=df.encounter_id[df.admission_source_id==Admision].count()\n",
    "    Probabilida = str((EvFavo/EvPos)*100) + '%'\n",
    "    print(Probabilida)\n",
    "    \n",
    "\n",
    "#GroupBy\n",
    "TablaGroupAdmission= df.groupby(['race','admission_source_id']).encounter_id.count()\n",
    "CountAdmi = df.admission_source_id.groupby(df.admission_source_id).count()\n",
    "Probabilidad = TablaGroupAdmission/CountAdmi\n"
   ]
  },
  {
   "cell_type": "markdown",
   "metadata": {},
   "source": [
    "# Cual es la probabilidad dependiendo del nivel   diabetes a que tenga n\n",
    "# cantidad de consultas"
   ]
  },
  {
   "cell_type": "code",
   "execution_count": 8,
   "metadata": {
    "collapsed": true
   },
   "outputs": [],
   "source": [
    "\n",
    "tabla3 = pd.crosstab(df.number_outpatient, df.number_diagnoses)\n",
    "#Probabilidad por columna\n",
    "probabilidad = tabla3/tabla3.sum()\n",
    "#Probabilidad general\n",
    "#probabilidaGeneral = tabla2/tabla2.sum().sum()\n",
    "\n",
    "#Grafica\n",
    "graf = pd.crosstab(index = df['number_outpatient'], columns = df['number_diagnoses']).plot(kind='bar')\n",
    "graficars = pd.crosstab(index=df['number_outpatient'],columns=df['number_diagnoses']).apply(lambda r: r/r.sum() *100, axis=1).plot(kind='bar')\n",
    "\n",
    "#Funcion\n",
    "def FunProba( NivelDiabete,CantiConsul ):\n",
    "    EvFavo=df.encounter_id[(df.number_outpatient == NivelDiabete)&(df.number_diagnoses==CantiConsul)].count()\n",
    "    EvPos=df.encounter_id[df.number_diagnoses==CantiConsul].count()\n",
    "    Probabilida = str((EvFavo/EvPos)*100) + '%'\n",
    "    print(Probabilida)\n",
    "    \n",
    "def LlamarProbabAdmi(Admision):\n",
    "    a = probabilidad[Admision]\n",
    "    return a\n",
    "\n",
    "#GroupBy\n",
    "TablaGroupAdmission= df.groupby(['number_diagnoses','number_outpatient']).encounter_id.count()\n",
    "CountAdmi = df.admission_source_id.groupby(df.number_diagnoses).count()\n",
    "Probabilidad = TablaGroupAdmission/CountAdmi"
   ]
  },
  {
   "cell_type": "markdown",
   "metadata": {},
   "source": [
    "# Que edad, que raza y que genero es mas propensa a tener el cirto nivel de diabetes \n"
   ]
  }
 ],
 "metadata": {
  "kernelspec": {
   "display_name": "Python 3",
   "language": "python",
   "name": "python3"
  },
  "language_info": {
   "codemirror_mode": {
    "name": "ipython",
    "version": 3
   },
   "file_extension": ".py",
   "mimetype": "text/x-python",
   "name": "python",
   "nbconvert_exporter": "python",
   "pygments_lexer": "ipython3",
   "version": "3.4.4"
  }
 },
 "nbformat": 4,
 "nbformat_minor": 0
}
