{
 "cells": [
  {
   "cell_type": "markdown",
   "metadata": {},
   "source": [
    "# ¿Cuál es la probabilidad de que una persona haya sido transferida de otro hospital al actual? "
   ]
  },
  {
   "cell_type": "code",
   "execution_count": 3,
   "metadata": {
    "collapsed": false
   },
   "outputs": [
    {
     "name": "stdout",
     "output_type": "stream",
     "text": [
      "La probabilidad de que un paciente haya sido transferido de un hospital a otro es de  3.13169427903 %\n"
     ]
    }
   ],
   "source": [
    "from __future__ import division\n",
    "\n",
    "import pandas as pd\n",
    "import numpy as np\n",
    "import matplotlib.pyplot as plt\n",
    "import seaborn as sns\n",
    "from scipy import stats, integrate\n",
    "\n",
    "\n",
    "\n",
    "Data =  pd.read_csv('diabetic_data.csv') #Para leer el dataset de excel\n",
    "\n",
    "transferidos = Data.encounter_id[Data.admission_source_id == 4].count() #Se crea una variable para almacenar en ella el numero de la cuenta\n",
    "probabilidad = float((transferidos/101766)*100) #Se divide la variable creada dentro del numero total de pacientes y se multiplica por 100 para obtener un porcentaje\n",
    "print \"La probabilidad de que un paciente haya sido transferido de un hospital a otro es de \", probabilidad, \"%\"\n"
   ]
  },
  {
   "cell_type": "markdown",
   "metadata": {},
   "source": [
    "# Respuesta: 3.1316 %"
   ]
  }
 ],
 "metadata": {
  "kernelspec": {
   "display_name": "Python 2",
   "language": "python",
   "name": "python2"
  },
  "language_info": {
   "codemirror_mode": {
    "name": "ipython",
    "version": 2
   },
   "file_extension": ".py",
   "mimetype": "text/x-python",
   "name": "python",
   "nbconvert_exporter": "python",
   "pygments_lexer": "ipython2",
   "version": "2.7.11"
  }
 },
 "nbformat": 4,
 "nbformat_minor": 0
}
