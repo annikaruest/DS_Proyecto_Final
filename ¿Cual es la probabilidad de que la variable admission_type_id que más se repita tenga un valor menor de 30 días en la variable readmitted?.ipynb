{
 "cells": [
  {
   "cell_type": "markdown",
   "metadata": {},
   "source": [
    "## ¿Cual es la probabilidad de que la variable admission_type_id que más se repita tenga un valor menor de 30 días en la variable readmitted? "
   ]
  },
  {
   "cell_type": "code",
   "execution_count": 18,
   "metadata": {
    "collapsed": false
   },
   "outputs": [
    {
     "data": {
      "text/plain": [
       "0    1\n",
       "dtype: int64"
      ]
     },
     "execution_count": 18,
     "metadata": {},
     "output_type": "execute_result"
    }
   ],
   "source": [
    "diabetes.admission_type_id.mode()"
   ]
  },
  {
   "cell_type": "code",
   "execution_count": 19,
   "metadata": {
    "collapsed": false
   },
   "outputs": [],
   "source": [
    "p = diabetes[(diabetes.admission_type_id == 1)&(diabetes.readmitted =='<30')]"
   ]
  },
  {
   "cell_type": "code",
   "execution_count": 20,
   "metadata": {
    "collapsed": false
   },
   "outputs": [
    {
     "data": {
      "text/plain": [
       "encounter_id                6221\n",
       "patient_nbr                 6221\n",
       "race                        6221\n",
       "gender                      6221\n",
       "age                         6221\n",
       "weight                      6221\n",
       "admission_type_id           6221\n",
       "discharge_disposition_id    6221\n",
       "admission_source_id         6221\n",
       "time_in_hospital            6221\n",
       "payer_code                  6221\n",
       "medical_specialty           6221\n",
       "num_lab_procedures          6221\n",
       "num_procedures              6221\n",
       "num_medications             6221\n",
       "number_outpatient           6221\n",
       "number_emergency            6221\n",
       "number_inpatient            6221\n",
       "diag_1                      6221\n",
       "diag_2                      6221\n",
       "diag_3                      6221\n",
       "number_diagnoses            6221\n",
       "max_glu_serum               6221\n",
       "A1Cresult                   6221\n",
       "metformin                   6221\n",
       "repaglinide                 6221\n",
       "nateglinide                 6221\n",
       "chlorpropamide              6221\n",
       "glimepiride                 6221\n",
       "acetohexamide               6221\n",
       "glipizide                   6221\n",
       "glyburide                   6221\n",
       "tolbutamide                 6221\n",
       "pioglitazone                6221\n",
       "rosiglitazone               6221\n",
       "acarbose                    6221\n",
       "miglitol                    6221\n",
       "troglitazone                6221\n",
       "tolazamide                  6221\n",
       "examide                     6221\n",
       "citoglipton                 6221\n",
       "insulin                     6221\n",
       "glyburide-metformin         6221\n",
       "glipizide-metformin         6221\n",
       "glimepiride-pioglitazone    6221\n",
       "metformin-rosiglitazone     6221\n",
       "metformin-pioglitazone      6221\n",
       "change                      6221\n",
       "diabetesMed                 6221\n",
       "readmitted                  6221\n",
       "dtype: int64"
      ]
     },
     "execution_count": 20,
     "metadata": {},
     "output_type": "execute_result"
    }
   ],
   "source": [
    "p.count()"
   ]
  },
  {
   "cell_type": "code",
   "execution_count": 21,
   "metadata": {
    "collapsed": false
   },
   "outputs": [
    {
     "data": {
      "text/plain": [
       "encounter_id                6.113044\n",
       "patient_nbr                 6.113044\n",
       "race                        6.113044\n",
       "gender                      6.113044\n",
       "age                         6.113044\n",
       "weight                      6.113044\n",
       "admission_type_id           6.113044\n",
       "discharge_disposition_id    6.113044\n",
       "admission_source_id         6.113044\n",
       "time_in_hospital            6.113044\n",
       "payer_code                  6.113044\n",
       "medical_specialty           6.113044\n",
       "num_lab_procedures          6.113044\n",
       "num_procedures              6.113044\n",
       "num_medications             6.113044\n",
       "number_outpatient           6.113044\n",
       "number_emergency            6.113044\n",
       "number_inpatient            6.113044\n",
       "diag_1                      6.113044\n",
       "diag_2                      6.113044\n",
       "diag_3                      6.113044\n",
       "number_diagnoses            6.113044\n",
       "max_glu_serum               6.113044\n",
       "A1Cresult                   6.113044\n",
       "metformin                   6.113044\n",
       "repaglinide                 6.113044\n",
       "nateglinide                 6.113044\n",
       "chlorpropamide              6.113044\n",
       "glimepiride                 6.113044\n",
       "acetohexamide               6.113044\n",
       "glipizide                   6.113044\n",
       "glyburide                   6.113044\n",
       "tolbutamide                 6.113044\n",
       "pioglitazone                6.113044\n",
       "rosiglitazone               6.113044\n",
       "acarbose                    6.113044\n",
       "miglitol                    6.113044\n",
       "troglitazone                6.113044\n",
       "tolazamide                  6.113044\n",
       "examide                     6.113044\n",
       "citoglipton                 6.113044\n",
       "insulin                     6.113044\n",
       "glyburide-metformin         6.113044\n",
       "glipizide-metformin         6.113044\n",
       "glimepiride-pioglitazone    6.113044\n",
       "metformin-rosiglitazone     6.113044\n",
       "metformin-pioglitazone      6.113044\n",
       "change                      6.113044\n",
       "diabetesMed                 6.113044\n",
       "readmitted                  6.113044\n",
       "dtype: float64"
      ]
     },
     "execution_count": 21,
     "metadata": {},
     "output_type": "execute_result"
    }
   ],
   "source": [
    "p.count()*100/diabetes.count()"
   ]
  },
  {
   "cell_type": "markdown",
   "metadata": {},
   "source": [
    "## la probabilidad es de 6.11%"
   ]
  }
 ],
 "metadata": {
  "kernelspec": {
   "display_name": "Python 3",
   "language": "python",
   "name": "python3"
  },
  "language_info": {
   "codemirror_mode": {
    "name": "ipython",
    "version": 3
   },
   "file_extension": ".py",
   "mimetype": "text/x-python",
   "name": "python",
   "nbconvert_exporter": "python",
   "pygments_lexer": "ipython3",
   "version": "3.4.4"
  }
 },
 "nbformat": 4,
 "nbformat_minor": 0
}
