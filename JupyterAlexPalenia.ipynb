{
 "cells": [
  {
   "cell_type": "markdown",
   "metadata": {},
   "source": [
    "# ¿Qué probabilidad tienen los pacientes, que presentan inestabilidad en niveles de insulina que sean readmitidos despues de 30 días?\n"
   ]
  },
  {
   "cell_type": "code",
   "execution_count": 5,
   "metadata": {
    "collapsed": false
   },
   "outputs": [],
   "source": [
    "\n",
    "\n",
    "import numpy as np\n",
    "import pandas as pd\n",
    "import matplotlib.pyplot as plt\n",
    "import seaborn as sns\n",
    "from __future__ import division \n",
    "\n",
    "df = pd.read_csv('diabetic_data.csv')\n",
    "#Tabla\n",
    "tabla = pd.crosstab(df.insulin, df.readmitted)\n",
    "#Probabilidad por columna\n",
    "probabilida = tabla/tabla.sum()\n",
    "#Probabilidad general\n",
    "probabilidaGeneral = tabla/tabla.sum().sum()\n",
    "\n",
    "#Grafica\n",
    "graf = pd.crosstab(index = df['insulin'], columns = df['readmitted']).plot(kind='bar')\n",
    "\n",
    "#Funcion\n",
    "def FuncIns(NivelInsulina,Time):\n",
    "    EvFavo=df.encounter_id[(df.insulin == NivelInsulina)&(df.readmitted==Time)].count()\n",
    "    EvPos=df.encounter_id[df.readmitted==Time].count()\n",
    "    Probabilidad = EvFavo/EvPos\n",
    "    print(Probabilidad)\n",
    "    \n",
    "#GroupBy\n",
    "TablaGroup= df.groupby(['insulin','readmitted']).encounter_id.count()\n",
    "TotalReadmitted = df.readmitted.groupby(df.readmitted).count()\n",
    "Probabilidad = TablaGroup/TotalReadmitted\n"
   ]
  },
  {
   "cell_type": "markdown",
   "metadata": {},
   "source": [
    "### Basandonos en los niveles de insulina de los pacientes diabeticos pudemos concluir que las personas que tienen un nivel de alto de insulina tinen una probabilidad de 13% de ser ingresado antes de 30 dias."
   ]
  },
  {
   "cell_type": "code",
   "execution_count": null,
   "metadata": {
    "collapsed": true
   },
   "outputs": [],
   "source": []
  },
  {
   "cell_type": "markdown",
   "metadata": {},
   "source": [
    "# ¿Qué raza es más probable a ser transferido de un lugasr x al del hospital?"
   ]
  },
  {
   "cell_type": "code",
   "execution_count": 6,
   "metadata": {
    "collapsed": true
   },
   "outputs": [],
   "source": [
    "\n",
    "\n",
    "import numpy as np\n",
    "import pandas as pd\n",
    "import matplotlib.pyplot as plt\n",
    "import seaborn as sns\n",
    "from __future__ import division \n",
    "\n",
    "df = pd.read_csv('diabetic_data.csv')\n",
    "\n",
    "tabla2 = pd.crosstab(df.admission_source_id, df.race)\n",
    "#Probabilidad por columna\n",
    "probabilidad = tabla2/tabla2.sum()\n",
    "#Probabilidad general\n",
    "#probabilidaGeneral = tabla2/tabla2.sum().sum()\n",
    "\n",
    "#Grafica\n",
    "graf = pd.crosstab(index = df['race'], columns = df['admission_source_id']).plot(kind='bar')\n",
    "\n",
    "\n",
    "#Funcion\n",
    "def FunProbabilidad( Race,Admision ): \n",
    "    EvFavo=df.encounter_id[(df.race == Race)&(df.admission_source_id==Admision)].count()\n",
    "    EvPos=df.encounter_id[df.admission_source_id==Admision].count()\n",
    "    Probabilida = str((EvFavo/EvPos)*100) + '%'\n",
    "    print(Probabilida)\n",
    "    \n",
    "def LlamarProbabilidad(Admision):\n",
    "    print probabilidad[Admision]\n",
    "\n",
    "#GroupBy\n",
    "TablaGroupAdmission= df.groupby(['race','admission_source_id']).encounter_id.count()\n",
    "CountAdmi = df.admission_source_id.groupby(df.admission_source_id).count()\n",
    "Probabilidad = TablaGroupAdmission/CountAdmi\n"
   ]
  },
  {
   "cell_type": "markdown",
   "metadata": {},
   "source": [
    "### Se puede notar que la raza cuacasica es la más predominante. "
   ]
  },
  {
   "cell_type": "markdown",
   "metadata": {},
   "source": [
    "# ¿Cuál es la probabilidad dependiendo del nivel   diabetes a que tenga n cantidad de consultas?"
   ]
  },
  {
   "cell_type": "code",
   "execution_count": 7,
   "metadata": {
    "collapsed": true
   },
   "outputs": [],
   "source": [
    "\n",
    "\n",
    "import numpy as np\n",
    "import pandas as pd\n",
    "import matplotlib.pyplot as plt\n",
    "import seaborn as sns\n",
    "from __future__ import division \n",
    "\n",
    "df = pd.read_csv('diabetic_data.csv')\n",
    "\n",
    "tabla3 = pd.crosstab(df.number_outpatient, df.number_diagnoses)\n",
    "#Probabilidad por columna\n",
    "probabilidad = tabla3/tabla3.sum()\n",
    "#Probabilidad general\n",
    "#probabilidaGeneral = tabla2/tabla2.sum().sum()\n",
    "\n",
    "#Grafica\n",
    "graf = pd.crosstab(index = df['number_outpatient'], columns = df['number_diagnoses']).plot(kind='bar')\n",
    "graficars = pd.crosstab(index=df['number_outpatient'],columns=df['number_diagnoses']).apply(lambda r: r/r.sum() *100, axis=1).plot(kind='bar')\n",
    "\n",
    "#Funcion\n",
    "def FunProba( NivelDiabete,CantiConsul ):\n",
    "    EvFavo=df.encounter_id[(df.number_outpatient == NivelDiabete)&(df.number_diagnoses==CantiConsul)].count()\n",
    "    EvPos=df.encounter_id[df.number_diagnoses==CantiConsul].count()\n",
    "    Probabilida = str((EvFavo/EvPos)*100) + '%'\n",
    "    print(Probabilida)\n",
    "    \n",
    "def LlamarProbabAdmi(Admision):\n",
    "    a = probabilidad[Admision]\n",
    "    return a\n",
    "\n",
    "#GroupBy\n",
    "TablaGroupAdmission= df.groupby(['number_diagnoses','number_outpatient']).encounter_id.count()\n",
    "CountAdmi = df.admission_source_id.groupby(df.number_diagnoses).count()\n",
    "Probabilidad = TablaGroupAdmission/CountAdmi\n",
    "\n",
    "\n",
    "\n",
    "\n",
    "\n",
    "writer = pd.ExcelWriter('tablas.xlsx', engine='xlsxwriter')\n",
    "probabilidad.to_excel(writer, sheet_name='Sheet1')\n",
    "writer.save() \n"
   ]
  },
  {
   "cell_type": "markdown",
   "metadata": {},
   "source": [
    "### Un dato interesante es que a pesar de que su nivel de diabetes sea alta 10 su probabilidad es de que asista a 4 consultas es de 6%"
   ]
  },
  {
   "cell_type": "markdown",
   "metadata": {},
   "source": [
    "# ¿Qué edad, qué raza y qué genero es mas propensa a tener el cirto nivel de diabetes?"
   ]
  },
  {
   "cell_type": "code",
   "execution_count": 8,
   "metadata": {
    "collapsed": false
   },
   "outputs": [
    {
     "name": "stdout",
     "output_type": "stream",
     "text": [
      "Index([u'[70-80)'], dtype='object', name=u'age')\n",
      "Index([u'Caucasian'], dtype='object', name=u'race')\n",
      "Index([u'Female'], dtype='object', name=u'gender')\n"
     ]
    }
   ],
   "source": [
    "\n",
    "\n",
    "import numpy as np\n",
    "import pandas as pd\n",
    "import matplotlib.pyplot as plt\n",
    "import seaborn as sns\n",
    "from __future__ import division \n",
    "\n",
    "df = pd.read_csv('diabetic_data.csv')\n",
    "#Tabla por edad \n",
    "TabGroupByAge = pd.crosstab(df.age, df.number_diagnoses)\n",
    "Colum = TabGroupByAge[8]\n",
    "print Colum.index[Colum==Colum.max()]\n",
    "\n",
    "#Grafica\n",
    "graf = pd.crosstab(index = df['age'], columns = df['number_diagnoses']).plot(kind='bar')\n",
    "\n",
    "\n",
    "TabGroupByRace = pd.crosstab(df.race, df.number_diagnoses)\n",
    "Colum1 = TabGroupByRace[7]\n",
    "print Colum1.index[Colum1==Colum1.max()]\n",
    "\n",
    "#grafica\n",
    "graf = pd.crosstab(index = df['race'], columns = df['number_diagnoses']).plot(kind='bar')\n",
    "\n",
    "\n",
    "TabGroupByGender = pd.crosstab(df.gender, df.number_diagnoses)\n",
    "Colum2 = TabGroupByGender[7]\n",
    "print Colum2.index[Colum2==Colum2.max()]\n",
    "\n",
    "#grafica\n",
    "graf = pd.crosstab(index = df['gender'], columns = df['number_diagnoses']).plot(kind='bar')\n",
    "\n",
    "\n",
    "def Fun(tipo,a):\n",
    "    if (tipo=='raza'):\n",
    "        Colum1 = TabGroupByRace[a]\n",
    "        print Colum1.index[Colum1==Colum1.max()]\n",
    "    if (tipo=='genero'):\n",
    "        Colum2 = TabGroupByGender[2]\n",
    "        print Colum2.index[Colum2==Colum2.max()]\n",
    "        \n",
    "    if (tipo=='age'):\n",
    "        Colum = TabGroupByAge[2]\n",
    "        print Colum.index[Colum==Colum.max()]\n"
   ]
  },
  {
   "cell_type": "markdown",
   "metadata": {},
   "source": [
    "### Se puede notar que las personas más propensas a tener un nivel de diabetes mayor a 2 son las mujeres entre 40 y 50 años."
   ]
  }
 ],
 "metadata": {
  "kernelspec": {
   "display_name": "Python 2",
   "language": "python",
   "name": "python2"
  },
  "language_info": {
   "codemirror_mode": {
    "name": "ipython",
    "version": 2
   },
   "file_extension": ".py",
   "mimetype": "text/x-python",
   "name": "python",
   "nbconvert_exporter": "python",
   "pygments_lexer": "ipython2",
   "version": "2.7.11"
  }
 },
 "nbformat": 4,
 "nbformat_minor": 0
}
