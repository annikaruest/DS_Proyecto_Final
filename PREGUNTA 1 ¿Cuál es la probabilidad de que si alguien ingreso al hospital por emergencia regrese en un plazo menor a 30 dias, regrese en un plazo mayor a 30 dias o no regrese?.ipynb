{
 "cells": [
  {
   "cell_type": "markdown",
   "metadata": {},
   "source": [
    "## PREGUNTA 1 ¿Cuál es la probabilidad de que si alguien ingreso al hospital por emergencia regrese en un plazo menor a 30 dias, regrese en un plazo mayor a 30 dias o no regrese?"
   ]
  },
  {
   "cell_type": "code",
   "execution_count": 26,
   "metadata": {
    "collapsed": true
   },
   "outputs": [],
   "source": [
    "import numpy as np\n",
    "import pandas as pd\n",
    "from scipy import stats, integrate\n",
    "import matplotlib.pyplot as plt\n",
    "import seaborn as sns\n",
    "from __future__ import division\n",
    "\n",
    "%matplotlib inline\n",
    "\n",
    "df = pd.read_csv('diabetic_data.csv')\n",
    "diabetes = pd.read_csv('diabetic_data.csv')"
   ]
  },
  {
   "cell_type": "code",
   "execution_count": 27,
   "metadata": {
    "collapsed": false
   },
   "outputs": [],
   "source": [
    "diabetes.admission_type_id.mode()\n",
    "p = diabetes[(diabetes.admission_type_id == 1)&(diabetes.readmitted =='<30')]\n",
    "p.count()\n",
    "prob = p.count()*100/diabetes.count()"
   ]
  },
  {
   "cell_type": "code",
   "execution_count": 28,
   "metadata": {
    "collapsed": true
   },
   "outputs": [],
   "source": [
    "## Funcion\n",
    "def funcion(Readmitted):\n",
    "    probreadmitted = prob[prob.index == Readmitted]\n",
    "    print (probreadmitted)"
   ]
  },
  {
   "cell_type": "code",
   "execution_count": 29,
   "metadata": {
    "collapsed": false
   },
   "outputs": [
    {
     "name": "stdout",
     "output_type": "stream",
     "text": [
      "admission_type_id  readmitted\n",
      "1                  <30            6.113044\n",
      "                   >30           18.973921\n",
      "                   NO            27.966118\n",
      "2                  <30            2.030148\n",
      "                   >30            6.340035\n",
      "                   NO             9.789124\n",
      "3                  <30            1.926970\n",
      "                   >30            5.646287\n",
      "                   NO            10.968300\n",
      "4                  <30            0.000983\n",
      "                   >30            0.001965\n",
      "                   NO             0.006879\n",
      "5                  <30            0.486410\n",
      "                   >30            1.691135\n",
      "                   NO             2.524419\n",
      "6                  <30            0.575831\n",
      "                   >30            2.192284\n",
      "                   NO             2.431067\n",
      "7                  NO             0.020636\n",
      "8                  <30            0.026531\n",
      "                   >30            0.082542\n",
      "                   NO             0.205373\n",
      "Name: encounter_id, dtype: float64\n"
     ]
    }
   ],
   "source": [
    "## Groupby\n",
    "a = df.groupby(['admission_type_id','readmitted']).encounter_id.count()\n",
    "tablaProb = a/a.sum()\n",
    "print (tablaProb*100)"
   ]
  },
  {
   "cell_type": "code",
   "execution_count": 30,
   "metadata": {
    "collapsed": false
   },
   "outputs": [
    {
     "name": "stdout",
     "output_type": "stream",
     "text": [
      "admission_type_id          1         2          3         4         5  \\\n",
      "readmitted                                                              \n",
      "<30                 6.113044  2.030148   1.926970  0.000983  0.486410   \n",
      ">30                18.973921  6.340035   5.646287  0.001965  1.691135   \n",
      "NO                 27.966118  9.789124  10.968300  0.006879  2.524419   \n",
      "\n",
      "admission_type_id         6         7         8  \n",
      "readmitted                                       \n",
      "<30                0.575831  0.000000  0.026531  \n",
      ">30                2.192284  0.000000  0.082542  \n",
      "NO                 2.431067  0.020636  0.205373  \n"
     ]
    }
   ],
   "source": [
    "## Codigo de la tabla\n",
    "tabla = pd.crosstab(df.readmitted, df.admission_type_id)\n",
    "prob = tabla/tabla.sum().sum()\n",
    "print (prob*100)"
   ]
  },
  {
   "cell_type": "code",
   "execution_count": 31,
   "metadata": {
    "collapsed": false
   },
   "outputs": [
    {
     "data": {
      "image/png": "[encoded data removed]",
      "text/plain": [
       "<matplotlib.figure.Figure at 0x10a15fdd8>"
      ]
     },
     "metadata": {},
     "output_type": "display_data"
    }
   ],
   "source": [
    "## Grafica\n",
    "graficars = pd.crosstab(index=df['readmitted'],\n",
    "           columns=df['admission_type_id']).plot(kind='bar')"
   ]
  }
 ],
 "metadata": {
  "kernelspec": {
   "display_name": "Python 3",
   "language": "python",
   "name": "python3"
  },
  "language_info": {
   "codemirror_mode": {
    "name": "ipython",
    "version": 3
   },
   "file_extension": ".py",
   "mimetype": "text/x-python",
   "name": "python",
   "nbconvert_exporter": "python",
   "pygments_lexer": "ipython3",
   "version": "3.4.4"
  }
 },
 "nbformat": 4,
 "nbformat_minor": 0
}
